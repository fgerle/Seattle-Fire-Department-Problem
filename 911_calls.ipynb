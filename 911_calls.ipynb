{
 "cells": [
  {
   "cell_type": "markdown",
   "id": "42e81b3c-7c1f-4b92-a5cc-4d97e7a68b51",
   "metadata": {},
   "source": [
    "# The Seattle Fire Department Problem\n",
    "\n"
   ]
  },
  {
   "cell_type": "code",
   "execution_count": 1,
   "id": "ed44be9b-9db5-4201-935e-dda9039031be",
   "metadata": {},
   "outputs": [
    {
     "name": "stdout",
     "output_type": "stream",
     "text": [
      "Overwriting train.py\n"
     ]
    }
   ],
   "source": [
    "%%writefile train.py\n",
    "from call_db.calls import callDB\n",
    "from pop_predict.predict import populationPredictor\n",
    "import numpy as np\n",
    "import math\n",
    "import pandas as pd\n",
    "from sklearn.ensemble import HistGradientBoostingRegressor\n",
    "from sklearn.ensemble import GradientBoostingRegressor\n",
    "from sklearn.feature_selection import mutual_info_classif\n",
    "from sklearn.feature_selection import f_classif\n",
    "from sklearn.model_selection import train_test_split\n",
    "from sklearn.model_selection import cross_val_score\n",
    "import sklearn.metrics as metrics\n",
    "import datetime as dt"
   ]
  },
  {
   "cell_type": "code",
   "execution_count": 2,
   "id": "5de8f9c3-1fdd-4b14-bbbb-e7a075226523",
   "metadata": {},
   "outputs": [
    {
     "name": "stdout",
     "output_type": "stream",
     "text": [
      "Appending to train.py\n"
     ]
    }
   ],
   "source": [
    "%%writefile -a train.py\n",
    "\n",
    "def collect_data(call_db, first_date, last_date, categories=None):\n",
    "    data = []\n",
    "\n",
    "    delta = dt.timedelta(days=1)\n",
    "    day = first_date\n",
    "\n",
    "    while day <= last_date:\n",
    "        details = call_db.get_date_details(day)\n",
    "        weather = call_db.get_weather(day)\n",
    "        covid = call_db.get_covid_info(day)\n",
    "        weekend = 0\n",
    "        holiday = 0\n",
    "        snow = 0\n",
    "    \n",
    "        if details[\"weekday\"] >= 5:\n",
    "            weekend = 1\n",
    "        if details[\"holiday\"] > 0:\n",
    "            holiday = 1\n",
    "        if weather[\"SNOW\"] > 0:\n",
    "            snow = 1\n",
    "            \n",
    "        daily_data = {\n",
    "            #\"HOURLY_CALLS\": details[\"hourly_stats\"],\n",
    "            \"CALLS\": details[\"calls\"],\n",
    "            \"DAY\": details[\"day\"],\n",
    "            \"MONTH\": details[\"month\"],\n",
    "            \"YEAR\": details[\"year\"],        \n",
    "            \"HOLIDAY\": details[\"holiday\"],\n",
    "            \"WEEKEND_BOOL\": weekend,\n",
    "            \"HOLIDAY_BOOL\": holiday,\n",
    "            \"WEEKDAY\": details[\"weekday\"],\n",
    "            \"POP\": details[\"population\"],\n",
    "            \"DAY_YEAR\": details[\"day_of_year\"],\n",
    "            \"WINTER\": details[\"Winter\"],\n",
    "            \"SPRING\": details[\"Spring\"],\n",
    "            \"SUMMER\": details[\"Summer\"], \n",
    "            \"FALL\": details[\"Fall\"],\n",
    "            \"TMIN\": weather[\"TMIN\"],\n",
    "            \"TMAX\": weather[\"TMAX\"],\n",
    "            \"TAVG\": weather[\"TAVG\"],\n",
    "            \"SNOW\": weather[\"SNOW\"],\n",
    "            \"SNOW_BOOL\": snow,\n",
    "            \"PRCP\": weather[\"PRCP\"],\n",
    "            \"FOG\": weather[\"WT01\"],\n",
    "            \"HVY_FOG\": weather[\"WT02\"],\n",
    "            \"THUNDER\": weather[\"WT03\"],\n",
    "            \"ICE\": weather[\"WT04\"],\n",
    "            \"HAIL\": weather[\"WT05\"],\n",
    "            \"GLAZE\": weather[\"WT06\"],\n",
    "            \"HAZE\": weather[\"WT08\"],    \n",
    "            \"PCR_TESTS\": covid[\"pcr_test\"],\n",
    "            \"WEEKLY_PCR_TESTS\": covid[\"seven_day_pcr_test\"],\n",
    "            \"PCR_TESTS_POS\": covid[\"pcr_pos\"],\n",
    "            \"WEEKLY_PCR_TESTS_POS\": covid[\"seven_day_pcr_pos\"],\n",
    "            \"HOSP_CNT\": covid[\"hosp_cnt\"],\n",
    "            \"DEATH_CNT\": covid[\"death_cnt\"],\n",
    "            \"WEEKLY_HOSP_CNT\": covid[\"seven_day_hosp_cnt\"],\n",
    "            \"WEEKLY_DEATH_CNT\": covid[\"seven_day_death_cnt\"],\n",
    "            \"PANDEMIC\": covid[\"pandemic\"]\n",
    "        }\n",
    "\n",
    "        if categories != None:\n",
    "            sum = 0\n",
    "            cat_data = details[\"type_stats\"]\n",
    "            for cat in categories:\n",
    "                if cat not in cat_data.keys():\n",
    "                    daily_data.update({cat: 0})\n",
    "                else:\n",
    "                    daily_data.update({cat: cat_data[cat]})\n",
    "                    sum += cat_data[cat]\n",
    "            daily_data.update({\"Misc Emergencies\": (details[\"calls\"] - sum)})\n",
    "   \n",
    "        data.append(daily_data)\n",
    "        day += delta\n",
    "\n",
    "    return(pd.DataFrame(data))"
   ]
  },
  {
   "cell_type": "code",
   "execution_count": 3,
   "id": "9af59344-49cc-47b3-90ae-ef740f2f4c13",
   "metadata": {},
   "outputs": [],
   "source": [
    "%run train.py"
   ]
  },
  {
   "cell_type": "markdown",
   "id": "8ffa33a6-51a7-4ae2-85aa-310aa04ce24e",
   "metadata": {},
   "source": [
    "### Create the database\n",
    "We first create a SQLite database of the emergency calls in Seattle using our callDB-module. \n",
    "\n",
    "You can download an up-to-date dataset of 911 calls in Seattle from https://data.seattle.gov/Public-Safety/Seattle-Real-Time-Fire-911-Calls/kzjm-xkq or use the version provided with this project.\n",
    "\n",
    "We will also include weather information in the database by specifying a file containing historic weather data of Seattle. More precisely, data from 2003-01-01 to 2024-01-11 23:59 of the weather station SEATTLE SAND POINT WEATHER FORECAST OFFICE, WA US\n",
    "(GHCND:USW00094290). You can obtain data from different stations or different time periods from the webpage of the National Oceanic and Atmospheric Administration (NOAA) at https://www.ncei.noaa.gov/cdo-web/.\n",
    "\n",
    "We further set the `rebuild` flag to `True` to overwrite possibly already existing databases and specify a beginning date for dates to be included in the database, `dmin=\"2010-01-01\"`. Note that dates throughout this project are either a string of the format YYYY-MM-DD or a `date` object.\n",
    "\n",
    "If you want to create a new database object and use an existing database file without changes you can set the `load_only` flag to `True`.\n",
    "\n"
   ]
  },
  {
   "cell_type": "code",
   "execution_count": 4,
   "id": "854d8b2b-8362-4252-ab00-ac4d9a4e4b06",
   "metadata": {},
   "outputs": [],
   "source": [
    "db = callDB(\"Seattle_Real_Time_Fire_911_Calls_20240111.csv\", weather_data=\"weather_data.csv\", covid_data= \"COVID.csv\", rebuild=True, dmin=\"2010-01-01\")#, load_only=True)"
   ]
  },
  {
   "cell_type": "markdown",
   "id": "1ca20e3e-b382-4db4-af88-16c83ec74450",
   "metadata": {},
   "source": [
    "## Feature selection\n",
    "Before we start training our model, we first inspect the dataset to see which features have the biggest impact on the number of emergency calls.\n",
    "\n",
    "We start by extracting the data as a `DataFrame` from our database using the `collect_data` function defined above. We use all the data until the 31. December 2022 as training data and leave the rest for test/validation of our model."
   ]
  },
  {
   "cell_type": "code",
   "execution_count": 5,
   "id": "2b525c2f-11b5-4b46-978b-73327250f240",
   "metadata": {},
   "outputs": [],
   "source": [
    "data = collect_data(db, db.first_date, dt.date(2022,12,31))\n",
    "#data = collect_data(db, dt.date(2022,1,1), dt.date(2022,12,31))\n",
    "#data = collect_data(db, db.first_date, db.last_date)\n",
    "test_data = collect_data(db, dt.date(2023,1,1), db.last_date)\n",
    "features = data.drop(\"CALLS\", axis=1)"
   ]
  },
  {
   "cell_type": "markdown",
   "id": "49d0bcc2-5918-4f5d-8a7b-efd8f2622429",
   "metadata": {},
   "source": [
    "As a first check, we calculate the variance of the different features to check if any columns is constant and can therefore be dropped from the features list."
   ]
  },
  {
   "cell_type": "code",
   "execution_count": 6,
   "id": "e3347306-8a87-4e51-abe0-2f1ef6c63325",
   "metadata": {},
   "outputs": [
    {
     "data": {
      "text/plain": [
       "DAY                     7.743642e+01\n",
       "MONTH                   1.189310e+01\n",
       "YEAR                    1.399789e+01\n",
       "HOLIDAY                 1.773393e+00\n",
       "WEEKEND_BOOL            2.041203e-01\n",
       "HOLIDAY_BOOL            3.059418e-02\n",
       "WEEKDAY                 3.999368e+00\n",
       "POP                     1.807158e+10\n",
       "DAY_YEAR                1.111613e+04\n",
       "WINTER                  1.860170e-01\n",
       "SPRING                  1.884442e-01\n",
       "SUMMER                  1.884442e-01\n",
       "FALL                    1.870781e-01\n",
       "TMIN                    2.516594e+01\n",
       "TMAX                    5.032327e+01\n",
       "TAVG                    3.532903e+00\n",
       "SNOW                    1.730735e+01\n",
       "SNOW_BOOL               9.181181e-03\n",
       "PRCP                    3.530635e+01\n",
       "FOG                     1.130626e-01\n",
       "HVY_FOG                 8.974426e-03\n",
       "THUNDER                 1.021363e-02\n",
       "ICE                     1.472131e-03\n",
       "HAIL                    1.051966e-03\n",
       "GLAZE                   2.105706e-04\n",
       "HAZE                    1.452569e-02\n",
       "PCR_TESTS               3.313154e+06\n",
       "WEEKLY_PCR_TESTS        1.394743e+08\n",
       "PCR_TESTS_POS           1.909765e+04\n",
       "WEEKLY_PCR_TESTS_POS    7.974332e+05\n",
       "HOSP_CNT                3.446011e+00\n",
       "DEATH_CNT               3.538027e-01\n",
       "WEEKLY_HOSP_CNT         1.397030e+02\n",
       "WEEKLY_DEATH_CNT        9.829546e+00\n",
       "PANDEMIC                1.741083e-01\n",
       "dtype: float64"
      ]
     },
     "execution_count": 6,
     "metadata": {},
     "output_type": "execute_result"
    }
   ],
   "source": [
    "np.var(features)"
   ]
  },
  {
   "cell_type": "markdown",
   "id": "2875ac1d-20a2-4771-ab78-eacb069e658f",
   "metadata": {},
   "source": [
    "It turns out that no column is constant but the `GLAZE` column has extremely low variance.\n",
    "\n",
    "### Mutual Information\n",
    "We now calculate the mutual information of the features with our target variable, the number of emergency calls."
   ]
  },
  {
   "cell_type": "code",
   "execution_count": 7,
   "id": "ec540b7a-5790-4a69-a4a3-043f78017c6e",
   "metadata": {},
   "outputs": [
    {
     "data": {
      "text/plain": [
       "[('DAY', 0.0),\n",
       " ('MONTH', 0.03869762607344196),\n",
       " ('YEAR', 0.45574195280761387),\n",
       " ('HOLIDAY', 0.014950739322967088),\n",
       " ('WEEKEND_BOOL', 0.003144038111885905),\n",
       " ('HOLIDAY_BOOL', 0.0),\n",
       " ('WEEKDAY', 0.032812292258403986),\n",
       " ('POP', 0.4597739489295991),\n",
       " ('DAY_YEAR', 0.0271385946894247),\n",
       " ('WINTER', 0.029282237619443485),\n",
       " ('SPRING', 0.001090815794402289),\n",
       " ('SUMMER', 0.04264860108404278),\n",
       " ('FALL', 0.0021934855430743028),\n",
       " ('TMIN', 0.05768493114666917),\n",
       " ('TMAX', 0.06733595271790449),\n",
       " ('TAVG', 0.051292928640084945),\n",
       " ('SNOW', 0.0),\n",
       " ('SNOW_BOOL', 0.004404038477496819),\n",
       " ('PRCP', 0.01713432582726515),\n",
       " ('FOG', 0.023291217091169436),\n",
       " ('HVY_FOG', 0.0),\n",
       " ('THUNDER', 4.68597020359951e-05),\n",
       " ('ICE', 0.0),\n",
       " ('HAIL', 0.0),\n",
       " ('GLAZE', 0.013706184508429864),\n",
       " ('HAZE', 0.0025185430261513986),\n",
       " ('PCR_TESTS', 0.06787440272191336),\n",
       " ('WEEKLY_PCR_TESTS', 0.0941915228868151),\n",
       " ('PCR_TESTS_POS', 0.08422670038612168),\n",
       " ('WEEKLY_PCR_TESTS_POS', 0.10814507691312603),\n",
       " ('HOSP_CNT', 0.0631220834246653),\n",
       " ('DEATH_CNT', 0.02475741070658799),\n",
       " ('WEEKLY_HOSP_CNT', 0.09323424628496557),\n",
       " ('WEEKLY_DEATH_CNT', 0.08315138394882204),\n",
       " ('PANDEMIC', 0.1909881362264132)]"
      ]
     },
     "execution_count": 7,
     "metadata": {},
     "output_type": "execute_result"
    }
   ],
   "source": [
    "info = mutual_info_classif(features, data[\"CALLS\"])\n",
    "list(zip(features.columns, info))"
   ]
  },
  {
   "cell_type": "markdown",
   "id": "136c8835-91f3-4d1a-bda1-e205ff678058",
   "metadata": {},
   "source": [
    "#### Plotting the mutual information\n",
    "For a better oversight we plot the mutual information with a threshold line at 0.025."
   ]
  },
  {
   "cell_type": "code",
   "execution_count": 8,
   "id": "9031ac2b-2cc4-489e-b2bf-1900ad42664a",
   "metadata": {},
   "outputs": [
    {
     "data": {
      "image/png": "[encoded data removed]",
      "text/plain": [
       "<Figure size 640x480 with 1 Axes>"
      ]
     },
     "metadata": {},
     "output_type": "display_data"
    }
   ],
   "source": [
    "import matplotlib.pyplot as plt\n",
    "plt.bar(range(len(info)), info)\n",
    "plt.axhline(y=0.025, color='r', linestyle='-')\n",
    "_ = plt.xticks(range(len(info)), features.columns, rotation=90)"
   ]
  },
  {
   "cell_type": "markdown",
   "id": "00ed79e6-9df4-4370-bc7f-db188c8bea10",
   "metadata": {},
   "source": [
    "#### Summary\n",
    "Clearly, the `YEAR` and `POP` features have the highest mutual information with the number of emergency calls. However, both are obviously strongly correlated and we should only include one of the two features in our model. The same holds for the three temperature variables `TMIN`, `TMAX` and `TAVG`. Clearly, the numbers related to the COVID19 pandemic have a very high mutual information. With one notable exception, `DEATH_CNT`.\n",
    "\n",
    "### ANOVA analysis\n",
    "Next we use ANOVA to analyze the correlation between the different features and the number of emergency calls."
   ]
  },
  {
   "cell_type": "code",
   "execution_count": 9,
   "id": "21e5647f-38ed-4bf3-b837-40328c6f73fc",
   "metadata": {},
   "outputs": [
    {
     "name": "stderr",
     "output_type": "stream",
     "text": [
      "/usr/lib/python3.11/site-packages/sklearn/feature_selection/_univariate_selection.py:113: RuntimeWarning: divide by zero encountered in divide\n",
      "  f = msb / msw\n"
     ]
    }
   ],
   "source": [
    "ANOVA = f_classif(features, data[\"CALLS\"])"
   ]
  },
  {
   "cell_type": "markdown",
   "id": "2d2ada29-5437-4bfa-ba5c-a9f1d7dc6497",
   "metadata": {},
   "source": [
    "The `GLAZE` column leads to a `RuntimeWarning` which we decide to ignore for the moment. To avoid this warning we could `drop` the `GLAZE` line from our `features` dataframe."
   ]
  },
  {
   "cell_type": "code",
   "execution_count": 10,
   "id": "fe837987-5f8d-4388-adb8-0328954427da",
   "metadata": {},
   "outputs": [
    {
     "data": {
      "text/html": [
       "<div>\n",
       "<style scoped>\n",
       "    .dataframe tbody tr th:only-of-type {\n",
       "        vertical-align: middle;\n",
       "    }\n",
       "\n",
       "    .dataframe tbody tr th {\n",
       "        vertical-align: top;\n",
       "    }\n",
       "\n",
       "    .dataframe thead th {\n",
       "        text-align: right;\n",
       "    }\n",
       "</style>\n",
       "<table border=\"1\" class=\"dataframe\">\n",
       "  <thead>\n",
       "    <tr style=\"text-align: right;\">\n",
       "      <th></th>\n",
       "      <th>feature</th>\n",
       "      <th>F-Score</th>\n",
       "      <th>p-value</th>\n",
       "    </tr>\n",
       "  </thead>\n",
       "  <tbody>\n",
       "    <tr>\n",
       "      <th>2</th>\n",
       "      <td>YEAR</td>\n",
       "      <td>15.499743</td>\n",
       "      <td>0.000000e+00</td>\n",
       "    </tr>\n",
       "    <tr>\n",
       "      <th>24</th>\n",
       "      <td>GLAZE</td>\n",
       "      <td>inf</td>\n",
       "      <td>0.000000e+00</td>\n",
       "    </tr>\n",
       "    <tr>\n",
       "      <th>7</th>\n",
       "      <td>POP</td>\n",
       "      <td>15.882276</td>\n",
       "      <td>0.000000e+00</td>\n",
       "    </tr>\n",
       "    <tr>\n",
       "      <th>28</th>\n",
       "      <td>PCR_TESTS_POS</td>\n",
       "      <td>6.271698</td>\n",
       "      <td>1.164503e-152</td>\n",
       "    </tr>\n",
       "    <tr>\n",
       "      <th>29</th>\n",
       "      <td>WEEKLY_PCR_TESTS_POS</td>\n",
       "      <td>5.357159</td>\n",
       "      <td>4.259750e-122</td>\n",
       "    </tr>\n",
       "    <tr>\n",
       "      <th>34</th>\n",
       "      <td>PANDEMIC</td>\n",
       "      <td>4.770380</td>\n",
       "      <td>1.793974e-102</td>\n",
       "    </tr>\n",
       "    <tr>\n",
       "      <th>30</th>\n",
       "      <td>HOSP_CNT</td>\n",
       "      <td>4.361911</td>\n",
       "      <td>6.966918e-89</td>\n",
       "    </tr>\n",
       "    <tr>\n",
       "      <th>32</th>\n",
       "      <td>WEEKLY_HOSP_CNT</td>\n",
       "      <td>4.298838</td>\n",
       "      <td>8.544245e-87</td>\n",
       "    </tr>\n",
       "    <tr>\n",
       "      <th>17</th>\n",
       "      <td>SNOW_BOOL</td>\n",
       "      <td>3.918355</td>\n",
       "      <td>2.816320e-74</td>\n",
       "    </tr>\n",
       "    <tr>\n",
       "      <th>14</th>\n",
       "      <td>TMAX</td>\n",
       "      <td>3.586295</td>\n",
       "      <td>1.648470e-63</td>\n",
       "    </tr>\n",
       "    <tr>\n",
       "      <th>15</th>\n",
       "      <td>TAVG</td>\n",
       "      <td>2.786359</td>\n",
       "      <td>1.242906e-38</td>\n",
       "    </tr>\n",
       "    <tr>\n",
       "      <th>27</th>\n",
       "      <td>WEEKLY_PCR_TESTS</td>\n",
       "      <td>2.592274</td>\n",
       "      <td>5.974284e-33</td>\n",
       "    </tr>\n",
       "    <tr>\n",
       "      <th>13</th>\n",
       "      <td>TMIN</td>\n",
       "      <td>2.498533</td>\n",
       "      <td>2.819298e-30</td>\n",
       "    </tr>\n",
       "    <tr>\n",
       "      <th>26</th>\n",
       "      <td>PCR_TESTS</td>\n",
       "      <td>2.444205</td>\n",
       "      <td>9.466174e-29</td>\n",
       "    </tr>\n",
       "    <tr>\n",
       "      <th>25</th>\n",
       "      <td>HAZE</td>\n",
       "      <td>2.172271</td>\n",
       "      <td>2.045695e-21</td>\n",
       "    </tr>\n",
       "    <tr>\n",
       "      <th>3</th>\n",
       "      <td>HOLIDAY</td>\n",
       "      <td>2.169548</td>\n",
       "      <td>2.406680e-21</td>\n",
       "    </tr>\n",
       "    <tr>\n",
       "      <th>11</th>\n",
       "      <td>SUMMER</td>\n",
       "      <td>2.033411</td>\n",
       "      <td>6.670763e-18</td>\n",
       "    </tr>\n",
       "    <tr>\n",
       "      <th>33</th>\n",
       "      <td>WEEKLY_DEATH_CNT</td>\n",
       "      <td>1.911861</td>\n",
       "      <td>5.524746e-15</td>\n",
       "    </tr>\n",
       "    <tr>\n",
       "      <th>16</th>\n",
       "      <td>SNOW</td>\n",
       "      <td>1.626534</td>\n",
       "      <td>7.454356e-09</td>\n",
       "    </tr>\n",
       "    <tr>\n",
       "      <th>31</th>\n",
       "      <td>DEATH_CNT</td>\n",
       "      <td>1.580960</td>\n",
       "      <td>5.479454e-08</td>\n",
       "    </tr>\n",
       "    <tr>\n",
       "      <th>9</th>\n",
       "      <td>WINTER</td>\n",
       "      <td>1.550023</td>\n",
       "      <td>2.023943e-07</td>\n",
       "    </tr>\n",
       "    <tr>\n",
       "      <th>5</th>\n",
       "      <td>HOLIDAY_BOOL</td>\n",
       "      <td>1.539960</td>\n",
       "      <td>3.069256e-07</td>\n",
       "    </tr>\n",
       "    <tr>\n",
       "      <th>0</th>\n",
       "      <td>DAY</td>\n",
       "      <td>1.334000</td>\n",
       "      <td>5.466626e-04</td>\n",
       "    </tr>\n",
       "    <tr>\n",
       "      <th>18</th>\n",
       "      <td>PRCP</td>\n",
       "      <td>1.319656</td>\n",
       "      <td>8.483914e-04</td>\n",
       "    </tr>\n",
       "    <tr>\n",
       "      <th>1</th>\n",
       "      <td>MONTH</td>\n",
       "      <td>1.219103</td>\n",
       "      <td>1.310479e-02</td>\n",
       "    </tr>\n",
       "    <tr>\n",
       "      <th>8</th>\n",
       "      <td>DAY_YEAR</td>\n",
       "      <td>1.177640</td>\n",
       "      <td>3.361250e-02</td>\n",
       "    </tr>\n",
       "    <tr>\n",
       "      <th>6</th>\n",
       "      <td>WEEKDAY</td>\n",
       "      <td>1.036481</td>\n",
       "      <td>3.389852e-01</td>\n",
       "    </tr>\n",
       "    <tr>\n",
       "      <th>10</th>\n",
       "      <td>SPRING</td>\n",
       "      <td>1.019198</td>\n",
       "      <td>4.079224e-01</td>\n",
       "    </tr>\n",
       "    <tr>\n",
       "      <th>4</th>\n",
       "      <td>WEEKEND_BOOL</td>\n",
       "      <td>1.016991</td>\n",
       "      <td>4.170444e-01</td>\n",
       "    </tr>\n",
       "    <tr>\n",
       "      <th>19</th>\n",
       "      <td>FOG</td>\n",
       "      <td>1.009986</td>\n",
       "      <td>4.463760e-01</td>\n",
       "    </tr>\n",
       "    <tr>\n",
       "      <th>12</th>\n",
       "      <td>FALL</td>\n",
       "      <td>0.818734</td>\n",
       "      <td>9.803153e-01</td>\n",
       "    </tr>\n",
       "    <tr>\n",
       "      <th>21</th>\n",
       "      <td>THUNDER</td>\n",
       "      <td>0.763123</td>\n",
       "      <td>9.971615e-01</td>\n",
       "    </tr>\n",
       "    <tr>\n",
       "      <th>20</th>\n",
       "      <td>HVY_FOG</td>\n",
       "      <td>0.707346</td>\n",
       "      <td>9.997769e-01</td>\n",
       "    </tr>\n",
       "    <tr>\n",
       "      <th>23</th>\n",
       "      <td>HAIL</td>\n",
       "      <td>0.512401</td>\n",
       "      <td>1.000000e+00</td>\n",
       "    </tr>\n",
       "    <tr>\n",
       "      <th>22</th>\n",
       "      <td>ICE</td>\n",
       "      <td>0.499839</td>\n",
       "      <td>1.000000e+00</td>\n",
       "    </tr>\n",
       "  </tbody>\n",
       "</table>\n",
       "</div>"
      ],
      "text/plain": [
       "                 feature    F-Score        p-value\n",
       "2                   YEAR  15.499743   0.000000e+00\n",
       "24                 GLAZE        inf   0.000000e+00\n",
       "7                    POP  15.882276   0.000000e+00\n",
       "28         PCR_TESTS_POS   6.271698  1.164503e-152\n",
       "29  WEEKLY_PCR_TESTS_POS   5.357159  4.259750e-122\n",
       "34              PANDEMIC   4.770380  1.793974e-102\n",
       "30              HOSP_CNT   4.361911   6.966918e-89\n",
       "32       WEEKLY_HOSP_CNT   4.298838   8.544245e-87\n",
       "17             SNOW_BOOL   3.918355   2.816320e-74\n",
       "14                  TMAX   3.586295   1.648470e-63\n",
       "15                  TAVG   2.786359   1.242906e-38\n",
       "27      WEEKLY_PCR_TESTS   2.592274   5.974284e-33\n",
       "13                  TMIN   2.498533   2.819298e-30\n",
       "26             PCR_TESTS   2.444205   9.466174e-29\n",
       "25                  HAZE   2.172271   2.045695e-21\n",
       "3                HOLIDAY   2.169548   2.406680e-21\n",
       "11                SUMMER   2.033411   6.670763e-18\n",
       "33      WEEKLY_DEATH_CNT   1.911861   5.524746e-15\n",
       "16                  SNOW   1.626534   7.454356e-09\n",
       "31             DEATH_CNT   1.580960   5.479454e-08\n",
       "9                 WINTER   1.550023   2.023943e-07\n",
       "5           HOLIDAY_BOOL   1.539960   3.069256e-07\n",
       "0                    DAY   1.334000   5.466626e-04\n",
       "18                  PRCP   1.319656   8.483914e-04\n",
       "1                  MONTH   1.219103   1.310479e-02\n",
       "8               DAY_YEAR   1.177640   3.361250e-02\n",
       "6                WEEKDAY   1.036481   3.389852e-01\n",
       "10                SPRING   1.019198   4.079224e-01\n",
       "4           WEEKEND_BOOL   1.016991   4.170444e-01\n",
       "19                   FOG   1.009986   4.463760e-01\n",
       "12                  FALL   0.818734   9.803153e-01\n",
       "21               THUNDER   0.763123   9.971615e-01\n",
       "20               HVY_FOG   0.707346   9.997769e-01\n",
       "23                  HAIL   0.512401   1.000000e+00\n",
       "22                   ICE   0.499839   1.000000e+00"
      ]
     },
     "execution_count": 10,
     "metadata": {},
     "output_type": "execute_result"
    }
   ],
   "source": [
    "ANOVA_df = pd.DataFrame({\"feature\": features.columns, \"F-Score\": list(ANOVA[0]), \"p-value\": list(ANOVA[1])})\n",
    "ANOVA_df.sort_values(by=\"p-value\")"
   ]
  },
  {
   "cell_type": "markdown",
   "id": "e39346ef-38cb-4f0e-a9a5-ca417d60464f",
   "metadata": {},
   "source": [
    "#### Summary\n",
    "On the first glimpse the results of both methods is similar. The ANOVA analysis confirms the strong impact of the `YEAR` and `POP` variables. However, we also obtain relatively small p-values for the `SNOW`, `WEEKEND_BOOL` and `HAIL` variables. Furthermore, the `SUMMER` variable seems to have a much higher impact on the result than the other seasonal variables.\n",
    "\n",
    "### Conclusion\n",
    "Based on this analysis, we decide to include the following features in the training of our model:\n"
   ]
  },
  {
   "cell_type": "code",
   "execution_count": 11,
   "id": "821d7f30-aabe-4738-8a38-985e5244fa2f",
   "metadata": {},
   "outputs": [
    {
     "data": {
      "text/html": [
       "<div>\n",
       "<style scoped>\n",
       "    .dataframe tbody tr th:only-of-type {\n",
       "        vertical-align: middle;\n",
       "    }\n",
       "\n",
       "    .dataframe tbody tr th {\n",
       "        vertical-align: top;\n",
       "    }\n",
       "\n",
       "    .dataframe thead th {\n",
       "        text-align: right;\n",
       "    }\n",
       "</style>\n",
       "<table border=\"1\" class=\"dataframe\">\n",
       "  <thead>\n",
       "    <tr style=\"text-align: right;\">\n",
       "      <th></th>\n",
       "      <th>POP</th>\n",
       "      <th>PRCP</th>\n",
       "      <th>MONTH</th>\n",
       "      <th>TMAX</th>\n",
       "      <th>SNOW_BOOL</th>\n",
       "      <th>SUMMER</th>\n",
       "      <th>WINTER</th>\n",
       "      <th>PRCP</th>\n",
       "      <th>HAZE</th>\n",
       "      <th>HAIL</th>\n",
       "      <th>WEEKEND_BOOL</th>\n",
       "      <th>HOLIDAY_BOOL</th>\n",
       "      <th>WEEKLY_HOSP_CNT</th>\n",
       "      <th>WEEKLY_DEATH_CNT</th>\n",
       "      <th>WEEKLY_PCR_TESTS</th>\n",
       "      <th>WEEKLY_PCR_TESTS_POS</th>\n",
       "      <th>PANDEMIC</th>\n",
       "    </tr>\n",
       "  </thead>\n",
       "  <tbody>\n",
       "    <tr>\n",
       "      <th>0</th>\n",
       "      <td>3069000</td>\n",
       "      <td>9.1</td>\n",
       "      <td>1</td>\n",
       "      <td>11.1</td>\n",
       "      <td>0</td>\n",
       "      <td>0</td>\n",
       "      <td>1</td>\n",
       "      <td>9.1</td>\n",
       "      <td>0.0</td>\n",
       "      <td>0.0</td>\n",
       "      <td>0</td>\n",
       "      <td>1</td>\n",
       "      <td>0</td>\n",
       "      <td>0</td>\n",
       "      <td>0</td>\n",
       "      <td>0</td>\n",
       "      <td>0</td>\n",
       "    </tr>\n",
       "    <tr>\n",
       "      <th>1</th>\n",
       "      <td>3069000</td>\n",
       "      <td>0.8</td>\n",
       "      <td>1</td>\n",
       "      <td>10.0</td>\n",
       "      <td>0</td>\n",
       "      <td>0</td>\n",
       "      <td>1</td>\n",
       "      <td>0.8</td>\n",
       "      <td>0.0</td>\n",
       "      <td>0.0</td>\n",
       "      <td>1</td>\n",
       "      <td>0</td>\n",
       "      <td>0</td>\n",
       "      <td>0</td>\n",
       "      <td>0</td>\n",
       "      <td>0</td>\n",
       "      <td>0</td>\n",
       "    </tr>\n",
       "    <tr>\n",
       "      <th>2</th>\n",
       "      <td>3069000</td>\n",
       "      <td>0.5</td>\n",
       "      <td>1</td>\n",
       "      <td>8.9</td>\n",
       "      <td>0</td>\n",
       "      <td>0</td>\n",
       "      <td>1</td>\n",
       "      <td>0.5</td>\n",
       "      <td>0.0</td>\n",
       "      <td>0.0</td>\n",
       "      <td>1</td>\n",
       "      <td>0</td>\n",
       "      <td>0</td>\n",
       "      <td>0</td>\n",
       "      <td>0</td>\n",
       "      <td>0</td>\n",
       "      <td>0</td>\n",
       "    </tr>\n",
       "    <tr>\n",
       "      <th>3</th>\n",
       "      <td>3069000</td>\n",
       "      <td>18.0</td>\n",
       "      <td>1</td>\n",
       "      <td>8.9</td>\n",
       "      <td>0</td>\n",
       "      <td>0</td>\n",
       "      <td>1</td>\n",
       "      <td>18.0</td>\n",
       "      <td>0.0</td>\n",
       "      <td>0.0</td>\n",
       "      <td>0</td>\n",
       "      <td>0</td>\n",
       "      <td>0</td>\n",
       "      <td>0</td>\n",
       "      <td>0</td>\n",
       "      <td>0</td>\n",
       "      <td>0</td>\n",
       "    </tr>\n",
       "    <tr>\n",
       "      <th>4</th>\n",
       "      <td>3069000</td>\n",
       "      <td>1.8</td>\n",
       "      <td>1</td>\n",
       "      <td>8.9</td>\n",
       "      <td>0</td>\n",
       "      <td>0</td>\n",
       "      <td>1</td>\n",
       "      <td>1.8</td>\n",
       "      <td>0.0</td>\n",
       "      <td>0.0</td>\n",
       "      <td>0</td>\n",
       "      <td>0</td>\n",
       "      <td>0</td>\n",
       "      <td>0</td>\n",
       "      <td>0</td>\n",
       "      <td>0</td>\n",
       "      <td>0</td>\n",
       "    </tr>\n",
       "    <tr>\n",
       "      <th>...</th>\n",
       "      <td>...</td>\n",
       "      <td>...</td>\n",
       "      <td>...</td>\n",
       "      <td>...</td>\n",
       "      <td>...</td>\n",
       "      <td>...</td>\n",
       "      <td>...</td>\n",
       "      <td>...</td>\n",
       "      <td>...</td>\n",
       "      <td>...</td>\n",
       "      <td>...</td>\n",
       "      <td>...</td>\n",
       "      <td>...</td>\n",
       "      <td>...</td>\n",
       "      <td>...</td>\n",
       "      <td>...</td>\n",
       "      <td>...</td>\n",
       "    </tr>\n",
       "    <tr>\n",
       "      <th>4743</th>\n",
       "      <td>3489000</td>\n",
       "      <td>20.6</td>\n",
       "      <td>12</td>\n",
       "      <td>11.7</td>\n",
       "      <td>0</td>\n",
       "      <td>0</td>\n",
       "      <td>1</td>\n",
       "      <td>20.6</td>\n",
       "      <td>0.0</td>\n",
       "      <td>0.0</td>\n",
       "      <td>0</td>\n",
       "      <td>0</td>\n",
       "      <td>23</td>\n",
       "      <td>3</td>\n",
       "      <td>5372</td>\n",
       "      <td>437</td>\n",
       "      <td>1</td>\n",
       "    </tr>\n",
       "    <tr>\n",
       "      <th>4744</th>\n",
       "      <td>3489000</td>\n",
       "      <td>0.3</td>\n",
       "      <td>12</td>\n",
       "      <td>8.3</td>\n",
       "      <td>0</td>\n",
       "      <td>0</td>\n",
       "      <td>1</td>\n",
       "      <td>0.3</td>\n",
       "      <td>0.0</td>\n",
       "      <td>0.0</td>\n",
       "      <td>0</td>\n",
       "      <td>0</td>\n",
       "      <td>22</td>\n",
       "      <td>3</td>\n",
       "      <td>5289</td>\n",
       "      <td>439</td>\n",
       "      <td>1</td>\n",
       "    </tr>\n",
       "    <tr>\n",
       "      <th>4745</th>\n",
       "      <td>3489000</td>\n",
       "      <td>7.9</td>\n",
       "      <td>12</td>\n",
       "      <td>7.8</td>\n",
       "      <td>0</td>\n",
       "      <td>0</td>\n",
       "      <td>1</td>\n",
       "      <td>7.9</td>\n",
       "      <td>0.0</td>\n",
       "      <td>0.0</td>\n",
       "      <td>0</td>\n",
       "      <td>0</td>\n",
       "      <td>24</td>\n",
       "      <td>2</td>\n",
       "      <td>5182</td>\n",
       "      <td>422</td>\n",
       "      <td>1</td>\n",
       "    </tr>\n",
       "    <tr>\n",
       "      <th>4746</th>\n",
       "      <td>3489000</td>\n",
       "      <td>7.6</td>\n",
       "      <td>12</td>\n",
       "      <td>11.1</td>\n",
       "      <td>0</td>\n",
       "      <td>0</td>\n",
       "      <td>1</td>\n",
       "      <td>7.6</td>\n",
       "      <td>0.0</td>\n",
       "      <td>0.0</td>\n",
       "      <td>0</td>\n",
       "      <td>0</td>\n",
       "      <td>24</td>\n",
       "      <td>2</td>\n",
       "      <td>5627</td>\n",
       "      <td>455</td>\n",
       "      <td>1</td>\n",
       "    </tr>\n",
       "    <tr>\n",
       "      <th>4747</th>\n",
       "      <td>3489000</td>\n",
       "      <td>0.3</td>\n",
       "      <td>12</td>\n",
       "      <td>9.4</td>\n",
       "      <td>0</td>\n",
       "      <td>0</td>\n",
       "      <td>1</td>\n",
       "      <td>0.3</td>\n",
       "      <td>0.0</td>\n",
       "      <td>0.0</td>\n",
       "      <td>1</td>\n",
       "      <td>0</td>\n",
       "      <td>25</td>\n",
       "      <td>4</td>\n",
       "      <td>5493</td>\n",
       "      <td>465</td>\n",
       "      <td>1</td>\n",
       "    </tr>\n",
       "  </tbody>\n",
       "</table>\n",
       "<p>4748 rows × 17 columns</p>\n",
       "</div>"
      ],
      "text/plain": [
       "          POP  PRCP  MONTH  TMAX  SNOW_BOOL  SUMMER  WINTER  PRCP  HAZE  HAIL  \\\n",
       "0     3069000   9.1      1  11.1          0       0       1   9.1   0.0   0.0   \n",
       "1     3069000   0.8      1  10.0          0       0       1   0.8   0.0   0.0   \n",
       "2     3069000   0.5      1   8.9          0       0       1   0.5   0.0   0.0   \n",
       "3     3069000  18.0      1   8.9          0       0       1  18.0   0.0   0.0   \n",
       "4     3069000   1.8      1   8.9          0       0       1   1.8   0.0   0.0   \n",
       "...       ...   ...    ...   ...        ...     ...     ...   ...   ...   ...   \n",
       "4743  3489000  20.6     12  11.7          0       0       1  20.6   0.0   0.0   \n",
       "4744  3489000   0.3     12   8.3          0       0       1   0.3   0.0   0.0   \n",
       "4745  3489000   7.9     12   7.8          0       0       1   7.9   0.0   0.0   \n",
       "4746  3489000   7.6     12  11.1          0       0       1   7.6   0.0   0.0   \n",
       "4747  3489000   0.3     12   9.4          0       0       1   0.3   0.0   0.0   \n",
       "\n",
       "      WEEKEND_BOOL  HOLIDAY_BOOL  WEEKLY_HOSP_CNT  WEEKLY_DEATH_CNT  \\\n",
       "0                0             1                0                 0   \n",
       "1                1             0                0                 0   \n",
       "2                1             0                0                 0   \n",
       "3                0             0                0                 0   \n",
       "4                0             0                0                 0   \n",
       "...            ...           ...              ...               ...   \n",
       "4743             0             0               23                 3   \n",
       "4744             0             0               22                 3   \n",
       "4745             0             0               24                 2   \n",
       "4746             0             0               24                 2   \n",
       "4747             1             0               25                 4   \n",
       "\n",
       "      WEEKLY_PCR_TESTS  WEEKLY_PCR_TESTS_POS  PANDEMIC  \n",
       "0                    0                     0         0  \n",
       "1                    0                     0         0  \n",
       "2                    0                     0         0  \n",
       "3                    0                     0         0  \n",
       "4                    0                     0         0  \n",
       "...                ...                   ...       ...  \n",
       "4743              5372                   437         1  \n",
       "4744              5289                   439         1  \n",
       "4745              5182                   422         1  \n",
       "4746              5627                   455         1  \n",
       "4747              5493                   465         1  \n",
       "\n",
       "[4748 rows x 17 columns]"
      ]
     },
     "execution_count": 11,
     "metadata": {},
     "output_type": "execute_result"
    }
   ],
   "source": [
    "relevant_features = [\"POP\", \"PRCP\", \"MONTH\", \"TMAX\", \"SNOW_BOOL\", \"SUMMER\", \"WINTER\", \"PRCP\", \"HAZE\", \"HAIL\", \"WEEKEND_BOOL\", \"HOLIDAY_BOOL\", \"WEEKLY_HOSP_CNT\", \"WEEKLY_DEATH_CNT\", \"WEEKLY_PCR_TESTS\", \"WEEKLY_PCR_TESTS_POS\", \"PANDEMIC\"]\n",
    "data[relevant_features]"
   ]
  },
  {
   "cell_type": "markdown",
   "id": "7a9d3bc6-3d5d-41db-b337-717db4f21158",
   "metadata": {},
   "source": [
    "## Training the model I\n",
    "\n",
    "We compare two very similar models, the *Gradient Boosting Regressor* and the *Histogram Gradient Boosting Regressor* from the Scikit-Learn library. We use the 13 years of data from 2010-01-01 to 2022-12-31 as training data and the data from 2023-01-01 to the end as test data.\n",
    "\n",
    "### Preparing training and test data"
   ]
  },
  {
   "cell_type": "code",
   "execution_count": 12,
   "id": "3b968d4e-d898-4a64-ae74-393188720afe",
   "metadata": {},
   "outputs": [],
   "source": [
    "training_X = data[relevant_features]\n",
    "training_y = data[\"CALLS\"]\n",
    "\n",
    "test_X = test_data[relevant_features]\n",
    "test_y = test_data[\"CALLS\"]"
   ]
  },
  {
   "cell_type": "markdown",
   "id": "2febe706-6092-46e9-8576-e21f4e5928c2",
   "metadata": {},
   "source": [
    "### Train the HistGradientBoostingRegressor"
   ]
  },
  {
   "cell_type": "code",
   "execution_count": 13,
   "id": "274cd521-bdde-47db-bb76-1ceba904dbe5",
   "metadata": {},
   "outputs": [],
   "source": [
    "hist_model = HistGradientBoostingRegressor(#categorical_features=categorical_features,\n",
    "                                      max_iter=1500,\n",
    "                                      max_leaf_nodes=500,\n",
    "                                      max_bins=255,\n",
    "                                      ).fit(training_X, training_y)"
   ]
  },
  {
   "cell_type": "markdown",
   "id": "dd9fd30c-a14a-4f75-a126-495495e7d95f",
   "metadata": {},
   "source": [
    "### Train the GradientBoostingRegressor"
   ]
  },
  {
   "cell_type": "code",
   "execution_count": 14,
   "id": "ec12be36-2a9e-47df-a7c1-b4e212a5709a",
   "metadata": {},
   "outputs": [],
   "source": [
    "model = GradientBoostingRegressor(n_estimators=250,\n",
    "                                    learning_rate = 0.2,\n",
    "                                    subsample = 0.75).fit(training_X, training_y)"
   ]
  },
  {
   "cell_type": "markdown",
   "id": "d368d59b-8a69-46a1-8062-0447c712762b",
   "metadata": {},
   "source": [
    "### Scoring the predictions\n",
    "We use the model specific scoring function to get a measure for the goodness of our estimators. In this case the metric is the $R^2$ or coefficient of determination regression score function."
   ]
  },
  {
   "cell_type": "code",
   "execution_count": 15,
   "id": "54c7045a-8f0b-4d31-a8af-a94e58bc347e",
   "metadata": {},
   "outputs": [
    {
     "name": "stdout",
     "output_type": "stream",
     "text": [
      "-0.38952858213765706\n",
      "-2.012489165340356\n"
     ]
    }
   ],
   "source": [
    "print(hist_model.score(test_X,test_y))\n",
    "print(model.score(test_X,test_y))"
   ]
  },
  {
   "cell_type": "markdown",
   "id": "531dc6a2-03ba-478d-bdfb-199daa4c1e23",
   "metadata": {},
   "source": [
    "### Conclusion\n",
    "Unfortunately, both estimators perform terribly. One reason might be that our test set consists basically of post-pandemic numbers whereas the whole COVID19 or at least the time where the pandemic had a heavy influence on 911 calls is part of our training set. This effect could not be mitigated by including COVID numbers in our training features. As a remedy we will try to obtain better results by splitting the whole data randomly into a training and a test set.\n",
    "\n",
    "## Training the model II\n",
    "We now use the `train_test_split` function to split the data into a training and a test set."
   ]
  },
  {
   "cell_type": "code",
   "execution_count": 16,
   "id": "bc4db418-e496-4e74-9fb6-9ed4e527b01f",
   "metadata": {},
   "outputs": [],
   "source": [
    "full_data = collect_data(db, db.first_date, db.last_date)\n",
    "rand_training_X, rand_test_X, rand_training_y, rand_test_y = train_test_split(full_data[relevant_features], full_data[\"CALLS\"], random_state=42, test_size=0.25) "
   ]
  },
  {
   "cell_type": "markdown",
   "id": "a92b5182-2658-4c71-b099-dffbed08c42c",
   "metadata": {},
   "source": [
    "### Train the HistGradientBoostingRegressor"
   ]
  },
  {
   "cell_type": "code",
   "execution_count": 17,
   "id": "28ee83b4-8bb0-4371-a6ed-c54f2e52d94b",
   "metadata": {},
   "outputs": [],
   "source": [
    "hist_model_2 = HistGradientBoostingRegressor(#categorical_features=categorical_features,\n",
    "                                      max_iter=1500,\n",
    "                                      max_leaf_nodes=500,\n",
    "                                      max_bins=255,\n",
    "                                      ).fit(rand_training_X, rand_training_y)"
   ]
  },
  {
   "cell_type": "markdown",
   "id": "5f6dd97c-ea1f-4fbc-b838-e5417805d596",
   "metadata": {},
   "source": [
    "### Train the GradientBoostingRegressor"
   ]
  },
  {
   "cell_type": "code",
   "execution_count": 18,
   "id": "7af2978c-0e7f-4c58-b5ea-a5d16b18df50",
   "metadata": {},
   "outputs": [],
   "source": [
    "model_2 = GradientBoostingRegressor(n_estimators=250,\n",
    "                                    learning_rate = 0.2,\n",
    "                                    subsample = 0.75).fit(rand_training_X, rand_training_y)"
   ]
  },
  {
   "cell_type": "code",
   "execution_count": 19,
   "id": "25cdcf2f-d298-41f4-bd9e-62b7c6ce3b2f",
   "metadata": {},
   "outputs": [
    {
     "name": "stdout",
     "output_type": "stream",
     "text": [
      "R2-score of the HistGradientBoostingRegressor is: 0.6059300567683955\n",
      "R2-score of the GradientBoostingRegressor is: 0.7168431764963573\n"
     ]
    }
   ],
   "source": [
    "print(f\"R2-score of the HistGradientBoostingRegressor is: {hist_model_2.score(rand_test_X,rand_test_y)}\")\n",
    "print(f\"R2-score of the GradientBoostingRegressor is: {model_2.score(rand_test_X,rand_test_y)}\")"
   ]
  },
  {
   "cell_type": "markdown",
   "id": "b939e09a-1c85-4f14-a14f-d67105bcc09c",
   "metadata": {},
   "source": [
    "### Conclusion\n",
    "Randomizing the training data seems to have worked, the $R^2$-score of the *GradientBoostingRegressor* is approximately 0.723. We can calculate the standard deviation of our estimator:"
   ]
  },
  {
   "cell_type": "code",
   "execution_count": 20,
   "id": "65be71c9-2a4f-451d-9e3f-4eae3eb6f5ef",
   "metadata": {},
   "outputs": [
    {
     "name": "stdout",
     "output_type": "stream",
     "text": [
      "The standard deviation of the GradientBoostingRegressor is 24.258752646042357.\n"
     ]
    }
   ],
   "source": [
    "predict_calls = model_2.predict(rand_test_X)\n",
    "delta = rand_test_y - predict_calls\n",
    "delta_percent = delta/rand_test_y * 100\n",
    "mse = np.var(delta)\n",
    "print(f\"The standard deviation of the GradientBoostingRegressor is {np.sqrt(mse)}.\")"
   ]
  },
  {
   "cell_type": "code",
   "execution_count": 21,
   "id": "828edf62-66e4-43e5-a0d3-5f952e9595da",
   "metadata": {},
   "outputs": [
    {
     "data": {
      "text/plain": [
       "267.8298204527713"
      ]
     },
     "execution_count": 21,
     "metadata": {},
     "output_type": "execute_result"
    }
   ],
   "source": [
    "np.mean(rand_test_y)"
   ]
  },
  {
   "cell_type": "markdown",
   "id": "6e8f5a11-c905-41ae-8aef-a7fee98886a2",
   "metadata": {},
   "source": [
    "## Write to file\n",
    "We use the GradientBoostingRegressor from above to implement a `calls_estimator` function and write it to the test.py file."
   ]
  },
  {
   "cell_type": "code",
   "execution_count": 22,
   "id": "65534584-cd7f-4a4b-84d0-d8cfbba609ca",
   "metadata": {},
   "outputs": [
    {
     "name": "stdout",
     "output_type": "stream",
     "text": [
      "Appending to train.py\n"
     ]
    }
   ],
   "source": [
    "%%writefile -a train.py\n",
    "\n",
    "def calls_estimator(relevant_features):\n",
    "    full_data = collect_data(db, db.first_date, db.last_date)\n",
    "    rand_training_X, rand_test_X, rand_training_y, rand_test_y = train_test_split(full_data[relevant_features], full_data[\"CALLS\"], random_state=42, test_size=0.25)\n",
    "    model = GradientBoostingRegressor(n_estimators=250,\n",
    "                                    learning_rate = 0.2,\n",
    "                                    subsample = 0.75).fit(rand_training_X, rand_training_y)\n",
    "    return(model)"
   ]
  },
  {
   "cell_type": "code",
   "execution_count": 23,
   "id": "4664c070-d2bf-4b70-8e25-80ced4c08c89",
   "metadata": {},
   "outputs": [
    {
     "name": "stdout",
     "output_type": "stream",
     "text": [
      "Appending to train.py\n"
     ]
    }
   ],
   "source": [
    "%%writefile -a train.py\n",
    "\n",
    "if __name__ == \"__main__\":\n",
    "    db = callDB(\"Seattle_Real_Time_Fire_911_Calls_20240111.csv\", weather_data=\"weather_data.csv\", covid_data= \"COVID.csv\", rebuild=True, dmin=\"2010-01-01\", load_only=True)\n",
    "    relevant_features = [\"POP\", \"PRCP\", \"MONTH\", \"TMAX\", \"SNOW_BOOL\", \"SUMMER\", \"WINTER\", \"HAZE\", \"HAIL\", \"WEEKEND_BOOL\", \"HOLIDAY_BOOL\", \"WEEKLY_HOSP_CNT\", \"WEEKLY_DEATH_CNT\", \"WEEKLY_PCR_TESTS\", \"WEEKLY_PCR_TESTS_POS\", \"PANDEMIC\"]\n",
    "    model = calls_estimator(relevant_features)\n",
    "    date_str = input(\"Please enter the date for which the 911-Calls should be predicted. Use the format YYYY-MM-DD.\")\n",
    "    weather = input(f\"Do you have weather information for {date_str}? y/N\")\n",
    "    if weather in [\"y\",\"yes\", \"Y\", \"YES\", \"Yes\"]:\n",
    "        PRCP = input(f\"WEATHER: Enter the amount of precipitation for {date_str}. Press ENTER to skip.\")\n",
    "        if PRCP == \"\":\n",
    "            PRCP = 0\n",
    "        TMAX = input(f\"WEATHER: Enter the maximal temperature (in degrees Celsius) for {date_str}. Press ENTER to skip.\")\n",
    "        if TMAX == \"\":\n",
    "            TMAX = 18\n",
    "        SNOW_BOOL = input(f\"WEATHER: Is it going to snow on {date_str}? Enter 0 for No and 1 for Yes. Press ENTER to skip.\")\n",
    "        if SNOW_BOOL == \"\":\n",
    "            SNOW_BOOL = 0\n",
    "        HAZE = input(f\"WEATHER: Is it going to be hazy on {date_str}? Enter 0 for No and 1 for Yes. Press ENTER to skip.\")\n",
    "        if HAZE == \"\":\n",
    "            HAZE = 0        \n",
    "        HAIL = input(f\"WEATHER: Is hail expected on {date_str}? Enter 0 for No and 1 for Yes. Press ENTER to skip.\")\n",
    "        if HAIL == \"\":\n",
    "            HAIL = 0\n",
    "    else:\n",
    "        PRCP = 0\n",
    "        TMAX = 18\n",
    "        SNOW_BOOL = 0\n",
    "        HAZE = 0\n",
    "        HAIL = 0\n",
    "    covid = input(f\"Do you have covid information for {date_str}? y/N\")\n",
    "    if covid in [\"y\",\"yes\", \"Y\", \"YES\", \"Yes\"]:\n",
    "        WEEKLY_HOSP_CNT = input(\"How many people were hospitalized within the past seven days with COVID? Press ENTER to skip.\")\n",
    "        if WEEKLY_HOSP_CNT == \"\":\n",
    "            WEEKLY_HOSP_CNT = 0\n",
    "        WEEKLY_DEATH_CNT = input(\"How many people died within the past seven days from COVID? Press ENTER to skip.\")\n",
    "        if WEEKLY_DEATH_CNT == \"\":\n",
    "            WEEKLY_DEATH_CNT = 0\n",
    "        WEEKLY_PCR_TESTS = input(\"How many PCR tests were registered within the last 7 days? Press ENTER to skip.\")\n",
    "        if WEEKLY_PCR_TESTS == \"\":\n",
    "            WEEKLY_PCR_TESTS = 0\n",
    "        WEEKLY_PCR_TESTS_POS = input(\"How many positive PCR tests were registered within the last 7 days? Press ENTER to skip.\")\n",
    "        if WEEKLY_PCR_TESTS_POS == \"\":\n",
    "            WEEKLY_PCR_TESTS_POS = 0\n",
    "    else:\n",
    "        WEEKLY_HOSP_CNT = 0\n",
    "        WEEKLY_DEATH_CNT = 0\n",
    "        WEEKLY_PCR_TESTS = 0\n",
    "        WEEKLY_PCR_TESTS_POS = 0\n",
    "\n",
    "    pop = populationPredictor()\n",
    "\n",
    "    date = dt.datetime.strptime(date_str, \"%Y-%m-%d\").date()\n",
    "\n",
    "    weekend = 0\n",
    "    if date.weekday() in [5,6]:\n",
    "        weekend = 1\n",
    "\n",
    "    holiday = 0\n",
    "    if date in db.wa_holidays:\n",
    "        holiday = 1\n",
    "\n",
    "    pandemic_start = dt.date(2020,1,30)\n",
    "    pandemic_end = dt.date(2023,5,5)\n",
    "\n",
    "    pandemic = 0\n",
    "    \n",
    "    if date > pandemic_start and date < pandemic_end:\n",
    "        pandemic = 1\n",
    "    \n",
    "\n",
    "    details = [{\"POP\": pop.predict(date.year),\n",
    "               \"PRCP\": PRCP,\n",
    "               \"MONTH\": date.month,\n",
    "               \"TMAX\": TMAX,\n",
    "               \"SNOW_BOOL\": SNOW_BOOL,\n",
    "               \"SUMMER\": db.get_season(date)[\"Summer\"],\n",
    "               \"WINTER\": db.get_season(date)[\"Winter\"],\n",
    "               \"HAZE\": HAZE,\n",
    "               \"HAIL\": HAIL,\n",
    "               \"WEEKEND_BOOL\": weekend,\n",
    "               \"HOLIDAY_BOOL\": holiday,\n",
    "               \"WEEKLY_HOSP_CNT\": WEEKLY_HOSP_CNT,\n",
    "               \"WEEKLY_DEATH_CNT\": WEEKLY_DEATH_CNT,\n",
    "               \"WEEKLY_PCR_TESTS\": WEEKLY_PCR_TESTS,\n",
    "               \"WEEKLY_PCR_TESTS_POS\": WEEKLY_PCR_TESTS_POS,\n",
    "               \"PANDEMIC\": pandemic},]\n",
    "\n",
    "    calls_prediction = model.predict(pd.DataFrame(details))\n",
    "\n",
    "    print(f\"For {date_str} a total of {calls_prediction[0]} Emergency calls is predicted. The standard deviation of this estimator is less than 25 calls.\")\n",
    "               \n",
    "               \n",
    "    "
   ]
  },
  {
   "cell_type": "code",
   "execution_count": 24,
   "id": "83d2dbfd-4484-4ca9-96a7-7b5cb7d7897b",
   "metadata": {},
   "outputs": [
    {
     "name": "stdin",
     "output_type": "stream",
     "text": [
      "Please enter the date for which the 911-Calls should be predicted. Use the format YYYY-MM-DD. 2024-04-06\n",
      "Do you have weather information for 2024-04-06? y/N \n",
      "Do you have covid information for 2024-04-06? y/N \n"
     ]
    },
    {
     "name": "stdout",
     "output_type": "stream",
     "text": [
      "For 2024-04-06 a total of 324.4109817688517 Emergency calls is predicted. The standard deviation of this estimator is less than 25 calls.\n"
     ]
    }
   ],
   "source": [
    "%run train.py"
   ]
  },
  {
   "cell_type": "markdown",
   "id": "51b207c9-403a-4527-9558-d57784ca3a73",
   "metadata": {},
   "source": [
    "## Outlook\n",
    "We have already all features implemented to create estimators for each category of emergency calls individually. This might lead to better overall predictions as different categories will depend on different features. First, we list the *important categories*. That is, those categories with more than 5000 calls."
   ]
  },
  {
   "cell_type": "code",
   "execution_count": 25,
   "id": "a0fddeda-2eec-4c09-97e8-3808a1673143",
   "metadata": {},
   "outputs": [
    {
     "data": {
      "text/plain": [
       "['Aid Response',\n",
       " 'Auto Fire Alarm',\n",
       " 'Triaged Incident',\n",
       " 'Medic Response',\n",
       " 'Rescue Elevator',\n",
       " 'Investigate Out Of Service',\n",
       " 'Medic Response- 7 per Rule',\n",
       " 'Automatic Fire Alarm Resd',\n",
       " 'Automatic Medical Alarm',\n",
       " 'AFA4 - Auto Alarm 2 + 1 + 1',\n",
       " 'Aid Response Yellow',\n",
       " '1RED 1 Unit',\n",
       " 'Illegal Burn',\n",
       " 'Low Acuity Response',\n",
       " 'Trans to AMR',\n",
       " 'Alarm Bell',\n",
       " 'MVI - Motor Vehicle Incident',\n",
       " 'Automatic Fire Alarm False',\n",
       " 'Activated CO Detector',\n",
       " 'Nurseline/AMR',\n",
       " 'EVENT - Special Event',\n",
       " '4RED - 2 + 1 + 1',\n",
       " 'Rubbish Fire',\n",
       " 'Motor Vehicle Accident',\n",
       " 'Medic Response, 7 per Rule',\n",
       " 'Medic Response, 6 per Rule']"
      ]
     },
     "execution_count": 25,
     "metadata": {},
     "output_type": "execute_result"
    }
   ],
   "source": [
    "call_categories = db.get_type_stats(start_ts=db.first_timestamp, end_ts=db.last_timestamp)\n",
    "important_categories = [cat for cat in call_categories.keys() if call_categories[cat] > 5000]\n",
    "important_categories"
   ]
  },
  {
   "cell_type": "markdown",
   "id": "6993ac4a-f890-4051-b763-cefff5a05d38",
   "metadata": {},
   "source": [
    "### Collect data with different categories\n",
    "We can pass our `important_categories` to the `collect_data` function to get the data with numbers of calls per category."
   ]
  },
  {
   "cell_type": "code",
   "execution_count": 26,
   "id": "b3da6102-f1a7-4b73-9deb-2d9fd5904582",
   "metadata": {},
   "outputs": [],
   "source": [
    "cat_data = collect_data(db, db.first_date, db.last_date, important_categories)\n",
    "cat_features = cat_data.drop(important_categories + [\"CALLS\", \"Misc Emergencies\"], axis=1)"
   ]
  },
  {
   "cell_type": "markdown",
   "id": "e271b47b-ea92-4fb1-9184-71b809fe4f46",
   "metadata": {},
   "source": [
    "### Select one category of calls\n"
   ]
  },
  {
   "cell_type": "code",
   "execution_count": 27,
   "id": "494c884a-14dc-48f3-a4ea-75f903415121",
   "metadata": {},
   "outputs": [],
   "source": [
    "category = 'Auto Fire Alarm'"
   ]
  },
  {
   "cell_type": "markdown",
   "id": "50337ab2-fa93-4457-9c84-2b4495c5673e",
   "metadata": {},
   "source": [
    "### Analyze the data\n",
    "As before, we analyze the data to determine the relevant features for predicting the number of calls."
   ]
  },
  {
   "cell_type": "code",
   "execution_count": 28,
   "id": "f303f636-6829-4d09-8930-9071a5cbfa50",
   "metadata": {},
   "outputs": [
    {
     "data": {
      "text/plain": [
       "[('DAY', 0.0029528886243941344),\n",
       " ('MONTH', 0.02299385429807943),\n",
       " ('YEAR', 0.09869017564820126),\n",
       " ('HOLIDAY', 0.0033269442085290812),\n",
       " ('WEEKEND_BOOL', 0.023518491444565193),\n",
       " ('HOLIDAY_BOOL', 0.0),\n",
       " ('WEEKDAY', 0.033190785179125104),\n",
       " ('POP', 0.09534692419950996),\n",
       " ('DAY_YEAR', 0.028816472257255477),\n",
       " ('WINTER', 0.0),\n",
       " ('SPRING', 0.009034997226372354),\n",
       " ('SUMMER', 0.012696412127178647),\n",
       " ('FALL', 0.0),\n",
       " ('TMIN', 0.005543685031940804),\n",
       " ('TMAX', 0.005779318806704126),\n",
       " ('TAVG', 0.0),\n",
       " ('SNOW', 0.017625585829814217),\n",
       " ('SNOW_BOOL', 0.004774042007988033),\n",
       " ('PRCP', 0.01745909381374977),\n",
       " ('FOG', 0.0027716521531835348),\n",
       " ('HVY_FOG', 0.0),\n",
       " ('THUNDER', 0.0009267823107323991),\n",
       " ('ICE', 0.0002760549520348654),\n",
       " ('HAIL', 0.0),\n",
       " ('GLAZE', 0.011766250054096261),\n",
       " ('HAZE', 0.005225351815052903),\n",
       " ('PCR_TESTS', 0.014602870223085151),\n",
       " ('WEEKLY_PCR_TESTS', 0.03791823259041349),\n",
       " ('PCR_TESTS_POS', 0.024345005207601744),\n",
       " ('WEEKLY_PCR_TESTS_POS', 0.04589535938940292),\n",
       " ('HOSP_CNT', 0.035485847839528795),\n",
       " ('DEATH_CNT', 0.019267019239786798),\n",
       " ('WEEKLY_HOSP_CNT', 0.05650448865508473),\n",
       " ('WEEKLY_DEATH_CNT', 0.05648570269104747),\n",
       " ('PANDEMIC', 0.0037353289283994506)]"
      ]
     },
     "execution_count": 28,
     "metadata": {},
     "output_type": "execute_result"
    }
   ],
   "source": [
    "info = mutual_info_classif(cat_features, cat_data[category])\n",
    "list(zip(features.columns, info))"
   ]
  },
  {
   "cell_type": "code",
   "execution_count": 29,
   "id": "4bd53575-e7a5-475a-8aee-ccf99f6c9f84",
   "metadata": {},
   "outputs": [
    {
     "data": {
      "image/png": "[encoded data removed]",
      "text/plain": [
       "<Figure size 640x480 with 1 Axes>"
      ]
     },
     "metadata": {},
     "output_type": "display_data"
    }
   ],
   "source": [
    "plt.bar(range(len(info)), info)\n",
    "plt.axhline(y=0.025, color='r', linestyle='-')\n",
    "_ = plt.xticks(range(len(info)), cat_features.columns, rotation=90)"
   ]
  },
  {
   "cell_type": "code",
   "execution_count": 30,
   "id": "89ded729-4c84-44d0-aaf0-a1ed670939cb",
   "metadata": {},
   "outputs": [
    {
     "name": "stderr",
     "output_type": "stream",
     "text": [
      "/usr/lib/python3.11/site-packages/sklearn/feature_selection/_univariate_selection.py:113: RuntimeWarning: divide by zero encountered in divide\n",
      "  f = msb / msw\n"
     ]
    },
    {
     "data": {
      "text/html": [
       "<div>\n",
       "<style scoped>\n",
       "    .dataframe tbody tr th:only-of-type {\n",
       "        vertical-align: middle;\n",
       "    }\n",
       "\n",
       "    .dataframe tbody tr th {\n",
       "        vertical-align: top;\n",
       "    }\n",
       "\n",
       "    .dataframe thead th {\n",
       "        text-align: right;\n",
       "    }\n",
       "</style>\n",
       "<table border=\"1\" class=\"dataframe\">\n",
       "  <thead>\n",
       "    <tr style=\"text-align: right;\">\n",
       "      <th></th>\n",
       "      <th>feature</th>\n",
       "      <th>F-Score</th>\n",
       "      <th>p-value</th>\n",
       "    </tr>\n",
       "  </thead>\n",
       "  <tbody>\n",
       "    <tr>\n",
       "      <th>24</th>\n",
       "      <td>GLAZE</td>\n",
       "      <td>inf</td>\n",
       "      <td>0.000000e+00</td>\n",
       "    </tr>\n",
       "    <tr>\n",
       "      <th>2</th>\n",
       "      <td>YEAR</td>\n",
       "      <td>13.384086</td>\n",
       "      <td>3.078410e-94</td>\n",
       "    </tr>\n",
       "    <tr>\n",
       "      <th>7</th>\n",
       "      <td>POP</td>\n",
       "      <td>11.980711</td>\n",
       "      <td>1.306829e-82</td>\n",
       "    </tr>\n",
       "    <tr>\n",
       "      <th>32</th>\n",
       "      <td>WEEKLY_HOSP_CNT</td>\n",
       "      <td>7.531281</td>\n",
       "      <td>7.883239e-46</td>\n",
       "    </tr>\n",
       "    <tr>\n",
       "      <th>4</th>\n",
       "      <td>WEEKEND_BOOL</td>\n",
       "      <td>6.931209</td>\n",
       "      <td>6.067097e-41</td>\n",
       "    </tr>\n",
       "    <tr>\n",
       "      <th>17</th>\n",
       "      <td>SNOW_BOOL</td>\n",
       "      <td>6.591237</td>\n",
       "      <td>3.416692e-38</td>\n",
       "    </tr>\n",
       "    <tr>\n",
       "      <th>30</th>\n",
       "      <td>HOSP_CNT</td>\n",
       "      <td>6.313628</td>\n",
       "      <td>5.863887e-36</td>\n",
       "    </tr>\n",
       "    <tr>\n",
       "      <th>28</th>\n",
       "      <td>PCR_TESTS_POS</td>\n",
       "      <td>6.203879</td>\n",
       "      <td>4.450508e-35</td>\n",
       "    </tr>\n",
       "    <tr>\n",
       "      <th>34</th>\n",
       "      <td>PANDEMIC</td>\n",
       "      <td>5.223600</td>\n",
       "      <td>2.573329e-27</td>\n",
       "    </tr>\n",
       "    <tr>\n",
       "      <th>29</th>\n",
       "      <td>WEEKLY_PCR_TESTS_POS</td>\n",
       "      <td>4.731942</td>\n",
       "      <td>1.643787e-23</td>\n",
       "    </tr>\n",
       "    <tr>\n",
       "      <th>18</th>\n",
       "      <td>PRCP</td>\n",
       "      <td>4.436230</td>\n",
       "      <td>2.931269e-21</td>\n",
       "    </tr>\n",
       "    <tr>\n",
       "      <th>3</th>\n",
       "      <td>HOLIDAY</td>\n",
       "      <td>4.372299</td>\n",
       "      <td>8.901672e-21</td>\n",
       "    </tr>\n",
       "    <tr>\n",
       "      <th>6</th>\n",
       "      <td>WEEKDAY</td>\n",
       "      <td>3.635623</td>\n",
       "      <td>2.363081e-15</td>\n",
       "    </tr>\n",
       "    <tr>\n",
       "      <th>1</th>\n",
       "      <td>MONTH</td>\n",
       "      <td>3.023426</td>\n",
       "      <td>4.267824e-11</td>\n",
       "    </tr>\n",
       "    <tr>\n",
       "      <th>8</th>\n",
       "      <td>DAY_YEAR</td>\n",
       "      <td>2.996444</td>\n",
       "      <td>6.469957e-11</td>\n",
       "    </tr>\n",
       "    <tr>\n",
       "      <th>26</th>\n",
       "      <td>PCR_TESTS</td>\n",
       "      <td>2.861796</td>\n",
       "      <td>5.038214e-10</td>\n",
       "    </tr>\n",
       "    <tr>\n",
       "      <th>27</th>\n",
       "      <td>WEEKLY_PCR_TESTS</td>\n",
       "      <td>2.420233</td>\n",
       "      <td>3.052750e-07</td>\n",
       "    </tr>\n",
       "    <tr>\n",
       "      <th>5</th>\n",
       "      <td>HOLIDAY_BOOL</td>\n",
       "      <td>2.304937</td>\n",
       "      <td>1.474962e-06</td>\n",
       "    </tr>\n",
       "    <tr>\n",
       "      <th>13</th>\n",
       "      <td>TMIN</td>\n",
       "      <td>2.201360</td>\n",
       "      <td>5.827448e-06</td>\n",
       "    </tr>\n",
       "    <tr>\n",
       "      <th>16</th>\n",
       "      <td>SNOW</td>\n",
       "      <td>2.167052</td>\n",
       "      <td>9.101735e-06</td>\n",
       "    </tr>\n",
       "    <tr>\n",
       "      <th>12</th>\n",
       "      <td>FALL</td>\n",
       "      <td>2.009007</td>\n",
       "      <td>6.653438e-05</td>\n",
       "    </tr>\n",
       "    <tr>\n",
       "      <th>33</th>\n",
       "      <td>WEEKLY_DEATH_CNT</td>\n",
       "      <td>1.822174</td>\n",
       "      <td>5.987956e-04</td>\n",
       "    </tr>\n",
       "    <tr>\n",
       "      <th>14</th>\n",
       "      <td>TMAX</td>\n",
       "      <td>1.659267</td>\n",
       "      <td>3.463329e-03</td>\n",
       "    </tr>\n",
       "    <tr>\n",
       "      <th>10</th>\n",
       "      <td>SPRING</td>\n",
       "      <td>1.371898</td>\n",
       "      <td>4.861740e-02</td>\n",
       "    </tr>\n",
       "    <tr>\n",
       "      <th>9</th>\n",
       "      <td>WINTER</td>\n",
       "      <td>1.307887</td>\n",
       "      <td>7.968673e-02</td>\n",
       "    </tr>\n",
       "    <tr>\n",
       "      <th>31</th>\n",
       "      <td>DEATH_CNT</td>\n",
       "      <td>1.219403</td>\n",
       "      <td>1.477432e-01</td>\n",
       "    </tr>\n",
       "    <tr>\n",
       "      <th>20</th>\n",
       "      <td>HVY_FOG</td>\n",
       "      <td>1.147014</td>\n",
       "      <td>2.303612e-01</td>\n",
       "    </tr>\n",
       "    <tr>\n",
       "      <th>19</th>\n",
       "      <td>FOG</td>\n",
       "      <td>1.108609</td>\n",
       "      <td>2.847796e-01</td>\n",
       "    </tr>\n",
       "    <tr>\n",
       "      <th>21</th>\n",
       "      <td>THUNDER</td>\n",
       "      <td>0.960365</td>\n",
       "      <td>5.489186e-01</td>\n",
       "    </tr>\n",
       "    <tr>\n",
       "      <th>11</th>\n",
       "      <td>SUMMER</td>\n",
       "      <td>0.956499</td>\n",
       "      <td>5.564199e-01</td>\n",
       "    </tr>\n",
       "    <tr>\n",
       "      <th>23</th>\n",
       "      <td>HAIL</td>\n",
       "      <td>0.945545</td>\n",
       "      <td>5.776663e-01</td>\n",
       "    </tr>\n",
       "    <tr>\n",
       "      <th>15</th>\n",
       "      <td>TAVG</td>\n",
       "      <td>0.813824</td>\n",
       "      <td>8.110074e-01</td>\n",
       "    </tr>\n",
       "    <tr>\n",
       "      <th>25</th>\n",
       "      <td>HAZE</td>\n",
       "      <td>0.739559</td>\n",
       "      <td>9.035777e-01</td>\n",
       "    </tr>\n",
       "    <tr>\n",
       "      <th>0</th>\n",
       "      <td>DAY</td>\n",
       "      <td>0.704221</td>\n",
       "      <td>9.348092e-01</td>\n",
       "    </tr>\n",
       "    <tr>\n",
       "      <th>22</th>\n",
       "      <td>ICE</td>\n",
       "      <td>0.261869</td>\n",
       "      <td>9.999999e-01</td>\n",
       "    </tr>\n",
       "  </tbody>\n",
       "</table>\n",
       "</div>"
      ],
      "text/plain": [
       "                 feature    F-Score       p-value\n",
       "24                 GLAZE        inf  0.000000e+00\n",
       "2                   YEAR  13.384086  3.078410e-94\n",
       "7                    POP  11.980711  1.306829e-82\n",
       "32       WEEKLY_HOSP_CNT   7.531281  7.883239e-46\n",
       "4           WEEKEND_BOOL   6.931209  6.067097e-41\n",
       "17             SNOW_BOOL   6.591237  3.416692e-38\n",
       "30              HOSP_CNT   6.313628  5.863887e-36\n",
       "28         PCR_TESTS_POS   6.203879  4.450508e-35\n",
       "34              PANDEMIC   5.223600  2.573329e-27\n",
       "29  WEEKLY_PCR_TESTS_POS   4.731942  1.643787e-23\n",
       "18                  PRCP   4.436230  2.931269e-21\n",
       "3                HOLIDAY   4.372299  8.901672e-21\n",
       "6                WEEKDAY   3.635623  2.363081e-15\n",
       "1                  MONTH   3.023426  4.267824e-11\n",
       "8               DAY_YEAR   2.996444  6.469957e-11\n",
       "26             PCR_TESTS   2.861796  5.038214e-10\n",
       "27      WEEKLY_PCR_TESTS   2.420233  3.052750e-07\n",
       "5           HOLIDAY_BOOL   2.304937  1.474962e-06\n",
       "13                  TMIN   2.201360  5.827448e-06\n",
       "16                  SNOW   2.167052  9.101735e-06\n",
       "12                  FALL   2.009007  6.653438e-05\n",
       "33      WEEKLY_DEATH_CNT   1.822174  5.987956e-04\n",
       "14                  TMAX   1.659267  3.463329e-03\n",
       "10                SPRING   1.371898  4.861740e-02\n",
       "9                 WINTER   1.307887  7.968673e-02\n",
       "31             DEATH_CNT   1.219403  1.477432e-01\n",
       "20               HVY_FOG   1.147014  2.303612e-01\n",
       "19                   FOG   1.108609  2.847796e-01\n",
       "21               THUNDER   0.960365  5.489186e-01\n",
       "11                SUMMER   0.956499  5.564199e-01\n",
       "23                  HAIL   0.945545  5.776663e-01\n",
       "15                  TAVG   0.813824  8.110074e-01\n",
       "25                  HAZE   0.739559  9.035777e-01\n",
       "0                    DAY   0.704221  9.348092e-01\n",
       "22                   ICE   0.261869  9.999999e-01"
      ]
     },
     "execution_count": 30,
     "metadata": {},
     "output_type": "execute_result"
    }
   ],
   "source": [
    "ANOVA = f_classif(cat_features, cat_data[category])\n",
    "ANOVA_df = pd.DataFrame({\"feature\": cat_features.columns, \"F-Score\": list(ANOVA[0]), \"p-value\": list(ANOVA[1])})\n",
    "ANOVA_df.sort_values(by=\"p-value\")"
   ]
  },
  {
   "cell_type": "markdown",
   "id": "d74e3325-fb86-46a9-86e4-2431cdf71a46",
   "metadata": {},
   "source": [
    "### Choose relevant features"
   ]
  },
  {
   "cell_type": "code",
   "execution_count": 31,
   "id": "d71cd702-5d8e-4a32-9ab1-d3cf957c5f80",
   "metadata": {},
   "outputs": [],
   "source": [
    "relevant_features = [\"POP\", \"PANDEMIC\", \"WEEKLY_HOSP_CNT\", \"PRCP\", \"WEEKLY_PCR_TESTS\", \"WEEKLY_PCR_TESTS_POS\", \"WEEKEND_BOOL\", \"WEEKDAY\", \"HOLIDAY\", \"MONTH\"]"
   ]
  },
  {
   "cell_type": "markdown",
   "id": "ece64674-7505-4d1b-a957-59feead7da5c",
   "metadata": {},
   "source": [
    "### Prepare training and testing data"
   ]
  },
  {
   "cell_type": "code",
   "execution_count": 32,
   "id": "1de10eef-2456-4484-ba8e-e07100ccbc56",
   "metadata": {},
   "outputs": [],
   "source": [
    "rand_cat_training_X, rand_cat_test_X, rand_cat_training_y, rand_cat_test_y = train_test_split(cat_data[relevant_features], cat_data[category], random_state=42, test_size=0.25) "
   ]
  },
  {
   "cell_type": "markdown",
   "id": "3f0b15e1-5c80-4b18-8fcc-e445b5b8cb11",
   "metadata": {},
   "source": [
    "### Train the model"
   ]
  },
  {
   "cell_type": "code",
   "execution_count": 33,
   "id": "d3acaed5-abbd-437d-8104-320c6a20b0ba",
   "metadata": {},
   "outputs": [],
   "source": [
    "model_3 = GradientBoostingRegressor(n_estimators=250,\n",
    "                                    learning_rate = 0.2,\n",
    "                                    subsample = 0.75).fit(rand_cat_training_X, rand_cat_training_y)"
   ]
  },
  {
   "cell_type": "code",
   "execution_count": 34,
   "id": "bafe463e-e000-4db9-92e1-7d5cbd56c71d",
   "metadata": {},
   "outputs": [
    {
     "name": "stdout",
     "output_type": "stream",
     "text": [
      "R2-score of the GradientBoostingRegressor is: 0.19220087499556548\n"
     ]
    }
   ],
   "source": [
    "print(f\"R2-score of the GradientBoostingRegressor is: {model_3.score(rand_cat_test_X,rand_cat_test_y)}\")"
   ]
  },
  {
   "cell_type": "code",
   "execution_count": null,
   "id": "bad7f5e9-dfb3-4192-95bc-3b3b7df014b0",
   "metadata": {},
   "outputs": [],
   "source": []
  },
  {
   "cell_type": "code",
   "execution_count": 35,
   "id": "e1739e0c-a878-45cc-9121-82247b013b26",
   "metadata": {},
   "outputs": [
    {
     "name": "stdout",
     "output_type": "stream",
     "text": [
      "The standard deviation of the GradientBoostingRegressor is 4.98879945931981.\n"
     ]
    }
   ],
   "source": [
    "predict_cat_calls = model_3.predict(rand_cat_test_X)\n",
    "delta = rand_cat_test_y - predict_cat_calls\n",
    "delta_percent = delta/rand_cat_test_y * 100\n",
    "mse = np.var(delta)\n",
    "print(f\"The standard deviation of the GradientBoostingRegressor is {np.sqrt(mse)}.\")"
   ]
  },
  {
   "cell_type": "code",
   "execution_count": 36,
   "id": "11738a4e-adb6-40cb-8266-d127d2e9d581",
   "metadata": {},
   "outputs": [
    {
     "data": {
      "text/plain": [
       "14.321623731459797"
      ]
     },
     "execution_count": 36,
     "metadata": {},
     "output_type": "execute_result"
    }
   ],
   "source": [
    "np.mean(rand_cat_test_y)"
   ]
  },
  {
   "cell_type": "code",
   "execution_count": null,
   "id": "14b231a4-f923-485e-a01e-d7e958894c71",
   "metadata": {},
   "outputs": [],
   "source": []
  }
 ],
 "metadata": {
  "kernelspec": {
   "display_name": "Python 3 (ipykernel)",
   "language": "python",
   "name": "python3"
  },
  "language_info": {
   "codemirror_mode": {
    "name": "ipython",
    "version": 3
   },
   "file_extension": ".py",
   "mimetype": "text/x-python",
   "name": "python",
   "nbconvert_exporter": "python",
   "pygments_lexer": "ipython3",
   "version": "3.11.6"
  }
 },
 "nbformat": 4,
 "nbformat_minor": 5
}
